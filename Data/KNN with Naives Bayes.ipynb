{
 "cells": [
  {
   "cell_type": "code",
   "execution_count": 30,
   "metadata": {},
   "outputs": [],
   "source": [
    "from pandas import DataFrame\n",
    "from sklearn import preprocessing\n",
    "from sklearn.model_selection import cross_validate\n",
    "from sklearn.model_selection import cross_val_score\n",
    "from sklearn.feature_extraction import DictVectorizer\n",
    "from sklearn.model_selection import train_test_split\n",
    "from sklearn.metrics import confusion_matrix\n",
    "from sklearn.metrics import accuracy_score\n",
    "import numpy as np\n",
    "import pandas as pd\n",
    "import seaborn as sns\n",
    "\n",
    "col_names_test = ['id', 'age', 'job', 'marital', 'education', 'default', 'balance', 'housing', 'loan', 'contact', 'day', 'month', 'duration', 'campaign', 'pdays', 'previous', 'poutcome', 'y']\n",
    "col_names_train = ['id', 'age', 'job', 'marital', 'education', 'default', 'balance', 'housing', 'loan', 'contact', 'day', 'month', 'duration', 'campaign', 'pdays', 'previous', 'poutcome', 'y']\n",
    "\n",
    "# Read in Datasets\n",
    "df_train = pd.read_csv('./data/trainingset.txt', \n",
    "                 names=col_names_test,\n",
    "                 na_values=\"?\",\n",
    "                 index_col='id')\n",
    "\n",
    "df_test = pd.read_csv('./data/queries.txt', \n",
    "                 names=col_names_train,\n",
    "                 na_values=\"?\",\n",
    "                 index_col='id')"
   ]
  },
  {
   "cell_type": "code",
   "execution_count": 31,
   "metadata": {},
   "outputs": [
    {
     "name": "stdout",
     "output_type": "stream",
     "text": [
      "<class 'pandas.core.frame.DataFrame'>\n",
      "Index: 24318 entries, TR1 to TR24318\n",
      "Data columns (total 17 columns):\n",
      " #   Column     Non-Null Count  Dtype \n",
      "---  ------     --------------  ----- \n",
      " 0   age        24318 non-null  int64 \n",
      " 1   job        24318 non-null  object\n",
      " 2   marital    24318 non-null  object\n",
      " 3   education  24318 non-null  object\n",
      " 4   default    24318 non-null  object\n",
      " 5   balance    24318 non-null  int64 \n",
      " 6   housing    24318 non-null  object\n",
      " 7   loan       24318 non-null  object\n",
      " 8   contact    24318 non-null  object\n",
      " 9   day        24318 non-null  int64 \n",
      " 10  month      24318 non-null  object\n",
      " 11  duration   24318 non-null  int64 \n",
      " 12  campaign   24318 non-null  int64 \n",
      " 13  pdays      24318 non-null  int64 \n",
      " 14  previous   24318 non-null  int64 \n",
      " 15  poutcome   24318 non-null  object\n",
      " 16  y          24318 non-null  object\n",
      "dtypes: int64(7), object(10)\n",
      "memory usage: 3.3+ MB\n"
     ]
    }
   ],
   "source": [
    "df_train.info()"
   ]
  },
  {
   "cell_type": "code",
   "execution_count": 32,
   "metadata": {},
   "outputs": [
    {
     "data": {
      "text/html": [
       "<div>\n",
       "<style scoped>\n",
       "    .dataframe tbody tr th:only-of-type {\n",
       "        vertical-align: middle;\n",
       "    }\n",
       "\n",
       "    .dataframe tbody tr th {\n",
       "        vertical-align: top;\n",
       "    }\n",
       "\n",
       "    .dataframe thead th {\n",
       "        text-align: right;\n",
       "    }\n",
       "</style>\n",
       "<table border=\"1\" class=\"dataframe\">\n",
       "  <thead>\n",
       "    <tr style=\"text-align: right;\">\n",
       "      <th></th>\n",
       "      <th>age</th>\n",
       "      <th>job</th>\n",
       "      <th>marital</th>\n",
       "      <th>education</th>\n",
       "      <th>default</th>\n",
       "      <th>balance</th>\n",
       "      <th>housing</th>\n",
       "      <th>loan</th>\n",
       "      <th>contact</th>\n",
       "      <th>day</th>\n",
       "      <th>month</th>\n",
       "      <th>duration</th>\n",
       "      <th>campaign</th>\n",
       "      <th>pdays</th>\n",
       "      <th>previous</th>\n",
       "      <th>poutcome</th>\n",
       "      <th>y</th>\n",
       "    </tr>\n",
       "    <tr>\n",
       "      <th>id</th>\n",
       "      <th></th>\n",
       "      <th></th>\n",
       "      <th></th>\n",
       "      <th></th>\n",
       "      <th></th>\n",
       "      <th></th>\n",
       "      <th></th>\n",
       "      <th></th>\n",
       "      <th></th>\n",
       "      <th></th>\n",
       "      <th></th>\n",
       "      <th></th>\n",
       "      <th></th>\n",
       "      <th></th>\n",
       "      <th></th>\n",
       "      <th></th>\n",
       "      <th></th>\n",
       "    </tr>\n",
       "  </thead>\n",
       "  <tbody>\n",
       "    <tr>\n",
       "      <th>TR1</th>\n",
       "      <td>44</td>\n",
       "      <td>JobCat9</td>\n",
       "      <td>single</td>\n",
       "      <td>secondary</td>\n",
       "      <td>no</td>\n",
       "      <td>29</td>\n",
       "      <td>yes</td>\n",
       "      <td>no</td>\n",
       "      <td>unknown</td>\n",
       "      <td>5</td>\n",
       "      <td>may</td>\n",
       "      <td>0</td>\n",
       "      <td>1</td>\n",
       "      <td>-1</td>\n",
       "      <td>0</td>\n",
       "      <td>unknown</td>\n",
       "      <td>TypeA</td>\n",
       "    </tr>\n",
       "    <tr>\n",
       "      <th>TR2</th>\n",
       "      <td>31</td>\n",
       "      <td>JobCat4</td>\n",
       "      <td>married</td>\n",
       "      <td>secondary</td>\n",
       "      <td>no</td>\n",
       "      <td>2</td>\n",
       "      <td>yes</td>\n",
       "      <td>yes</td>\n",
       "      <td>unknown</td>\n",
       "      <td>5</td>\n",
       "      <td>may</td>\n",
       "      <td>0</td>\n",
       "      <td>1</td>\n",
       "      <td>-1</td>\n",
       "      <td>0</td>\n",
       "      <td>unknown</td>\n",
       "      <td>TypeA</td>\n",
       "    </tr>\n",
       "    <tr>\n",
       "      <th>TR3</th>\n",
       "      <td>42</td>\n",
       "      <td>JobCat4</td>\n",
       "      <td>divorced</td>\n",
       "      <td>tertiary</td>\n",
       "      <td>yes</td>\n",
       "      <td>2</td>\n",
       "      <td>yes</td>\n",
       "      <td>no</td>\n",
       "      <td>unknown</td>\n",
       "      <td>5</td>\n",
       "      <td>may</td>\n",
       "      <td>0</td>\n",
       "      <td>1</td>\n",
       "      <td>-1</td>\n",
       "      <td>0</td>\n",
       "      <td>unknown</td>\n",
       "      <td>TypeA</td>\n",
       "    </tr>\n",
       "    <tr>\n",
       "      <th>TR4</th>\n",
       "      <td>58</td>\n",
       "      <td>JobCat2</td>\n",
       "      <td>married</td>\n",
       "      <td>primary</td>\n",
       "      <td>no</td>\n",
       "      <td>121</td>\n",
       "      <td>yes</td>\n",
       "      <td>no</td>\n",
       "      <td>unknown</td>\n",
       "      <td>5</td>\n",
       "      <td>may</td>\n",
       "      <td>0</td>\n",
       "      <td>1</td>\n",
       "      <td>-1</td>\n",
       "      <td>0</td>\n",
       "      <td>unknown</td>\n",
       "      <td>TypeA</td>\n",
       "    </tr>\n",
       "    <tr>\n",
       "      <th>TR5</th>\n",
       "      <td>43</td>\n",
       "      <td>JobCat9</td>\n",
       "      <td>single</td>\n",
       "      <td>secondary</td>\n",
       "      <td>no</td>\n",
       "      <td>593</td>\n",
       "      <td>yes</td>\n",
       "      <td>no</td>\n",
       "      <td>unknown</td>\n",
       "      <td>5</td>\n",
       "      <td>may</td>\n",
       "      <td>0</td>\n",
       "      <td>1</td>\n",
       "      <td>-1</td>\n",
       "      <td>0</td>\n",
       "      <td>unknown</td>\n",
       "      <td>TypeA</td>\n",
       "    </tr>\n",
       "  </tbody>\n",
       "</table>\n",
       "</div>"
      ],
      "text/plain": [
       "     age      job   marital  education default  balance housing loan  contact  \\\n",
       "id                                                                              \n",
       "TR1   44  JobCat9    single  secondary      no       29     yes   no  unknown   \n",
       "TR2   31  JobCat4   married  secondary      no        2     yes  yes  unknown   \n",
       "TR3   42  JobCat4  divorced   tertiary     yes        2     yes   no  unknown   \n",
       "TR4   58  JobCat2   married    primary      no      121     yes   no  unknown   \n",
       "TR5   43  JobCat9    single  secondary      no      593     yes   no  unknown   \n",
       "\n",
       "     day month  duration  campaign  pdays  previous poutcome      y  \n",
       "id                                                                   \n",
       "TR1    5   may         0         1     -1         0  unknown  TypeA  \n",
       "TR2    5   may         0         1     -1         0  unknown  TypeA  \n",
       "TR3    5   may         0         1     -1         0  unknown  TypeA  \n",
       "TR4    5   may         0         1     -1         0  unknown  TypeA  \n",
       "TR5    5   may         0         1     -1         0  unknown  TypeA  "
      ]
     },
     "execution_count": 32,
     "metadata": {},
     "output_type": "execute_result"
    }
   ],
   "source": [
    "df_train.head()"
   ]
  },
  {
   "cell_type": "markdown",
   "metadata": {},
   "source": [
    "# Data Exploration\n",
    "\n",
    "- Mean Age is approx. 40 years old. (Minimun: 16 years old and Maximum: 95 years old)\n",
    "- The mean balance for the training data is 1,347 and 1,397 for the test data. \n",
    "- Duration is always 0"
   ]
  },
  {
   "cell_type": "code",
   "execution_count": 33,
   "metadata": {},
   "outputs": [
    {
     "data": {
      "text/html": [
       "<div>\n",
       "<style scoped>\n",
       "    .dataframe tbody tr th:only-of-type {\n",
       "        vertical-align: middle;\n",
       "    }\n",
       "\n",
       "    .dataframe tbody tr th {\n",
       "        vertical-align: top;\n",
       "    }\n",
       "\n",
       "    .dataframe thead th {\n",
       "        text-align: right;\n",
       "    }\n",
       "</style>\n",
       "<table border=\"1\" class=\"dataframe\">\n",
       "  <thead>\n",
       "    <tr style=\"text-align: right;\">\n",
       "      <th></th>\n",
       "      <th>age</th>\n",
       "      <th>balance</th>\n",
       "      <th>day</th>\n",
       "      <th>duration</th>\n",
       "      <th>campaign</th>\n",
       "      <th>pdays</th>\n",
       "      <th>previous</th>\n",
       "    </tr>\n",
       "  </thead>\n",
       "  <tbody>\n",
       "    <tr>\n",
       "      <th>count</th>\n",
       "      <td>24318.000000</td>\n",
       "      <td>24318.000000</td>\n",
       "      <td>24318.000000</td>\n",
       "      <td>24318.0</td>\n",
       "      <td>24318.000000</td>\n",
       "      <td>24318.000000</td>\n",
       "      <td>24318.000000</td>\n",
       "    </tr>\n",
       "    <tr>\n",
       "      <th>mean</th>\n",
       "      <td>39.907723</td>\n",
       "      <td>1347.709968</td>\n",
       "      <td>15.765071</td>\n",
       "      <td>0.0</td>\n",
       "      <td>2.769060</td>\n",
       "      <td>41.085945</td>\n",
       "      <td>0.591126</td>\n",
       "    </tr>\n",
       "    <tr>\n",
       "      <th>std</th>\n",
       "      <td>11.438238</td>\n",
       "      <td>2944.383929</td>\n",
       "      <td>8.273208</td>\n",
       "      <td>0.0</td>\n",
       "      <td>3.068752</td>\n",
       "      <td>100.490570</td>\n",
       "      <td>1.976166</td>\n",
       "    </tr>\n",
       "    <tr>\n",
       "      <th>min</th>\n",
       "      <td>16.000000</td>\n",
       "      <td>-8019.000000</td>\n",
       "      <td>1.000000</td>\n",
       "      <td>0.0</td>\n",
       "      <td>1.000000</td>\n",
       "      <td>-1.000000</td>\n",
       "      <td>0.000000</td>\n",
       "    </tr>\n",
       "    <tr>\n",
       "      <th>25%</th>\n",
       "      <td>31.000000</td>\n",
       "      <td>75.000000</td>\n",
       "      <td>8.000000</td>\n",
       "      <td>0.0</td>\n",
       "      <td>1.000000</td>\n",
       "      <td>-1.000000</td>\n",
       "      <td>0.000000</td>\n",
       "    </tr>\n",
       "    <tr>\n",
       "      <th>50%</th>\n",
       "      <td>37.000000</td>\n",
       "      <td>451.000000</td>\n",
       "      <td>16.000000</td>\n",
       "      <td>0.0</td>\n",
       "      <td>2.000000</td>\n",
       "      <td>-1.000000</td>\n",
       "      <td>0.000000</td>\n",
       "    </tr>\n",
       "    <tr>\n",
       "      <th>75%</th>\n",
       "      <td>48.000000</td>\n",
       "      <td>1420.250000</td>\n",
       "      <td>21.000000</td>\n",
       "      <td>0.0</td>\n",
       "      <td>3.000000</td>\n",
       "      <td>-1.000000</td>\n",
       "      <td>0.000000</td>\n",
       "    </tr>\n",
       "    <tr>\n",
       "      <th>max</th>\n",
       "      <td>95.000000</td>\n",
       "      <td>81204.000000</td>\n",
       "      <td>31.000000</td>\n",
       "      <td>0.0</td>\n",
       "      <td>63.000000</td>\n",
       "      <td>842.000000</td>\n",
       "      <td>58.000000</td>\n",
       "    </tr>\n",
       "  </tbody>\n",
       "</table>\n",
       "</div>"
      ],
      "text/plain": [
       "                age       balance           day  duration      campaign  \\\n",
       "count  24318.000000  24318.000000  24318.000000   24318.0  24318.000000   \n",
       "mean      39.907723   1347.709968     15.765071       0.0      2.769060   \n",
       "std       11.438238   2944.383929      8.273208       0.0      3.068752   \n",
       "min       16.000000  -8019.000000      1.000000       0.0      1.000000   \n",
       "25%       31.000000     75.000000      8.000000       0.0      1.000000   \n",
       "50%       37.000000    451.000000     16.000000       0.0      2.000000   \n",
       "75%       48.000000   1420.250000     21.000000       0.0      3.000000   \n",
       "max       95.000000  81204.000000     31.000000       0.0     63.000000   \n",
       "\n",
       "              pdays      previous  \n",
       "count  24318.000000  24318.000000  \n",
       "mean      41.085945      0.591126  \n",
       "std      100.490570      1.976166  \n",
       "min       -1.000000      0.000000  \n",
       "25%       -1.000000      0.000000  \n",
       "50%       -1.000000      0.000000  \n",
       "75%       -1.000000      0.000000  \n",
       "max      842.000000     58.000000  "
      ]
     },
     "execution_count": 33,
     "metadata": {},
     "output_type": "execute_result"
    }
   ],
   "source": [
    "df_train.describe()"
   ]
  },
  {
   "cell_type": "code",
   "execution_count": 34,
   "metadata": {},
   "outputs": [
    {
     "data": {
      "text/plain": [
       "451.0"
      ]
     },
     "execution_count": 34,
     "metadata": {},
     "output_type": "execute_result"
    }
   ],
   "source": [
    "df_train['balance'].median()"
   ]
  },
  {
   "cell_type": "code",
   "execution_count": 35,
   "metadata": {},
   "outputs": [
    {
     "data": {
      "text/plain": [
       "0    0\n",
       "dtype: int64"
      ]
     },
     "execution_count": 35,
     "metadata": {},
     "output_type": "execute_result"
    }
   ],
   "source": [
    "df_train['balance'].mode()"
   ]
  },
  {
   "cell_type": "code",
   "execution_count": 36,
   "metadata": {},
   "outputs": [
    {
     "data": {
      "text/html": [
       "<div>\n",
       "<style scoped>\n",
       "    .dataframe tbody tr th:only-of-type {\n",
       "        vertical-align: middle;\n",
       "    }\n",
       "\n",
       "    .dataframe tbody tr th {\n",
       "        vertical-align: top;\n",
       "    }\n",
       "\n",
       "    .dataframe thead th {\n",
       "        text-align: right;\n",
       "    }\n",
       "</style>\n",
       "<table border=\"1\" class=\"dataframe\">\n",
       "  <thead>\n",
       "    <tr style=\"text-align: right;\">\n",
       "      <th></th>\n",
       "      <th>age</th>\n",
       "      <th>balance</th>\n",
       "      <th>campaign</th>\n",
       "      <th>day</th>\n",
       "      <th>duration</th>\n",
       "      <th>pdays</th>\n",
       "      <th>previous</th>\n",
       "    </tr>\n",
       "    <tr>\n",
       "      <th>y</th>\n",
       "      <th></th>\n",
       "      <th></th>\n",
       "      <th></th>\n",
       "      <th></th>\n",
       "      <th></th>\n",
       "      <th></th>\n",
       "      <th></th>\n",
       "    </tr>\n",
       "  </thead>\n",
       "  <tbody>\n",
       "    <tr>\n",
       "      <th>TypeA</th>\n",
       "      <td>39.833868</td>\n",
       "      <td>1291.913840</td>\n",
       "      <td>2.851314</td>\n",
       "      <td>15.873273</td>\n",
       "      <td>0</td>\n",
       "      <td>36.933938</td>\n",
       "      <td>0.500907</td>\n",
       "    </tr>\n",
       "    <tr>\n",
       "      <th>TypeB</th>\n",
       "      <td>40.470067</td>\n",
       "      <td>1772.555083</td>\n",
       "      <td>2.142756</td>\n",
       "      <td>14.941197</td>\n",
       "      <td>0</td>\n",
       "      <td>72.700319</td>\n",
       "      <td>1.278073</td>\n",
       "    </tr>\n",
       "  </tbody>\n",
       "</table>\n",
       "</div>"
      ],
      "text/plain": [
       "             age      balance  campaign        day  duration      pdays  \\\n",
       "y                                                                         \n",
       "TypeA  39.833868  1291.913840  2.851314  15.873273         0  36.933938   \n",
       "TypeB  40.470067  1772.555083  2.142756  14.941197         0  72.700319   \n",
       "\n",
       "       previous  \n",
       "y                \n",
       "TypeA  0.500907  \n",
       "TypeB  1.278073  "
      ]
     },
     "execution_count": 36,
     "metadata": {},
     "output_type": "execute_result"
    }
   ],
   "source": [
    "# Look at the subscribe rate for numerical values\n",
    "pd.pivot_table(df_train, index = 'y', values = ['age', 'balance', 'day', 'duration', 'campaign', 'pdays', 'previous'])"
   ]
  },
  {
   "cell_type": "code",
   "execution_count": 37,
   "metadata": {},
   "outputs": [],
   "source": [
    "df_age=df_train[[\"age\",\"y\"]]\n",
    "df_balance=df_train[[\"balance\",\"y\"]]\n",
    "df_day=df_train[[\"day\",\"y\"]]\n",
    "df_marital=df_train[[\"marital\",\"y\"]]\n",
    "df_job=df_train[[\"job\",\"y\"]]"
   ]
  },
  {
   "cell_type": "code",
   "execution_count": 38,
   "metadata": {},
   "outputs": [
    {
     "data": {
      "text/html": [
       "<div>\n",
       "<style scoped>\n",
       "    .dataframe tbody tr th:only-of-type {\n",
       "        vertical-align: middle;\n",
       "    }\n",
       "\n",
       "    .dataframe tbody tr th {\n",
       "        vertical-align: top;\n",
       "    }\n",
       "\n",
       "    .dataframe thead th {\n",
       "        text-align: right;\n",
       "    }\n",
       "</style>\n",
       "<table border=\"1\" class=\"dataframe\">\n",
       "  <thead>\n",
       "    <tr style=\"text-align: right;\">\n",
       "      <th></th>\n",
       "      <th>job</th>\n",
       "      <th>y</th>\n",
       "    </tr>\n",
       "  </thead>\n",
       "  <tbody>\n",
       "    <tr>\n",
       "      <th>count</th>\n",
       "      <td>24318</td>\n",
       "      <td>24318</td>\n",
       "    </tr>\n",
       "    <tr>\n",
       "      <th>unique</th>\n",
       "      <td>12</td>\n",
       "      <td>2</td>\n",
       "    </tr>\n",
       "    <tr>\n",
       "      <th>top</th>\n",
       "      <td>JobCat3</td>\n",
       "      <td>TypeA</td>\n",
       "    </tr>\n",
       "    <tr>\n",
       "      <th>freq</th>\n",
       "      <td>5197</td>\n",
       "      <td>21495</td>\n",
       "    </tr>\n",
       "  </tbody>\n",
       "</table>\n",
       "</div>"
      ],
      "text/plain": [
       "            job      y\n",
       "count     24318  24318\n",
       "unique       12      2\n",
       "top     JobCat3  TypeA\n",
       "freq       5197  21495"
      ]
     },
     "execution_count": 38,
     "metadata": {},
     "output_type": "execute_result"
    }
   ],
   "source": [
    "df_job.describe()"
   ]
  },
  {
   "cell_type": "code",
   "execution_count": 39,
   "metadata": {},
   "outputs": [
    {
     "data": {
      "image/png": "[encoded data removed]",
      "text/plain": [
       "<Figure size 432x288 with 1 Axes>"
      ]
     },
     "metadata": {
      "needs_background": "light"
     },
     "output_type": "display_data"
    }
   ],
   "source": [
    "sns.countplot(x=\"job\",hue=\"y\",data=df_train)\n",
    "plt.show()"
   ]
  },
  {
   "cell_type": "code",
   "execution_count": 40,
   "metadata": {},
   "outputs": [
    {
     "data": {
      "text/html": [
       "<div>\n",
       "<style scoped>\n",
       "    .dataframe tbody tr th:only-of-type {\n",
       "        vertical-align: middle;\n",
       "    }\n",
       "\n",
       "    .dataframe tbody tr th {\n",
       "        vertical-align: top;\n",
       "    }\n",
       "\n",
       "    .dataframe thead th {\n",
       "        text-align: right;\n",
       "    }\n",
       "</style>\n",
       "<table border=\"1\" class=\"dataframe\">\n",
       "  <thead>\n",
       "    <tr style=\"text-align: right;\">\n",
       "      <th></th>\n",
       "      <th>marital</th>\n",
       "      <th>y</th>\n",
       "    </tr>\n",
       "  </thead>\n",
       "  <tbody>\n",
       "    <tr>\n",
       "      <th>count</th>\n",
       "      <td>24318</td>\n",
       "      <td>24318</td>\n",
       "    </tr>\n",
       "    <tr>\n",
       "      <th>unique</th>\n",
       "      <td>3</td>\n",
       "      <td>2</td>\n",
       "    </tr>\n",
       "    <tr>\n",
       "      <th>top</th>\n",
       "      <td>married</td>\n",
       "      <td>TypeA</td>\n",
       "    </tr>\n",
       "    <tr>\n",
       "      <th>freq</th>\n",
       "      <td>14639</td>\n",
       "      <td>21495</td>\n",
       "    </tr>\n",
       "  </tbody>\n",
       "</table>\n",
       "</div>"
      ],
      "text/plain": [
       "        marital      y\n",
       "count     24318  24318\n",
       "unique        3      2\n",
       "top     married  TypeA\n",
       "freq      14639  21495"
      ]
     },
     "execution_count": 40,
     "metadata": {},
     "output_type": "execute_result"
    }
   ],
   "source": [
    "df_marital.describe()"
   ]
  },
  {
   "cell_type": "code",
   "execution_count": 41,
   "metadata": {},
   "outputs": [
    {
     "data": {
      "image/png": "[encoded data removed]",
      "text/plain": [
       "<Figure size 432x288 with 1 Axes>"
      ]
     },
     "metadata": {
      "needs_background": "light"
     },
     "output_type": "display_data"
    }
   ],
   "source": [
    "sns.countplot(x=\"marital\",hue=\"y\",data=df_train)\n",
    "plt.show()\n"
   ]
  },
  {
   "cell_type": "code",
   "execution_count": 42,
   "metadata": {},
   "outputs": [
    {
     "data": {
      "image/png": "[encoded data removed]",
      "text/plain": [
       "<Figure size 432x288 with 1 Axes>"
      ]
     },
     "metadata": {
      "needs_background": "light"
     },
     "output_type": "display_data"
    }
   ],
   "source": [
    "sns.countplot(x=\"education\",hue=\"y\",data=df_train)\n",
    "plt.show()"
   ]
  },
  {
   "cell_type": "markdown",
   "metadata": {},
   "source": [
    "## Let's look at balance"
   ]
  },
  {
   "cell_type": "code",
   "execution_count": 43,
   "metadata": {},
   "outputs": [
    {
     "data": {
      "image/png": "[encoded data removed]",
      "text/plain": [
       "<Figure size 432x288 with 1 Axes>"
      ]
     },
     "metadata": {
      "needs_background": "light"
     },
     "output_type": "display_data"
    }
   ],
   "source": [
    "sns.violinplot(x=\"y\",y=\"balance\",data=df_balance)\n",
    "plt.show()"
   ]
  },
  {
   "cell_type": "code",
   "execution_count": 44,
   "metadata": {},
   "outputs": [
    {
     "data": {
      "text/plain": [
       "<matplotlib.axes._subplots.AxesSubplot at 0x1ecf12767f0>"
      ]
     },
     "execution_count": 44,
     "metadata": {},
     "output_type": "execute_result"
    },
    {
     "data": {
      "image/png": "[encoded data removed]",
      "text/plain": [
       "<Figure size 432x288 with 1 Axes>"
      ]
     },
     "metadata": {
      "needs_background": "light"
     },
     "output_type": "display_data"
    }
   ],
   "source": [
    "marital_groups = df_train.groupby(['marital'], as_index=False)['balance'].median()\n",
    "\n",
    "sns.barplot(x=\"balance\", y=\"marital\", data=marital_groups,\n",
    "            label=\"Total\", palette=\"RdBu\")"
   ]
  },
  {
   "cell_type": "code",
   "execution_count": 45,
   "metadata": {},
   "outputs": [
    {
     "data": {
      "text/plain": [
       "<matplotlib.axes._subplots.AxesSubplot at 0x1ecf0348670>"
      ]
     },
     "execution_count": 45,
     "metadata": {},
     "output_type": "execute_result"
    },
    {
     "data": {
      "image/png": "[encoded data removed]",
      "text/plain": [
       "<Figure size 432x288 with 1 Axes>"
      ]
     },
     "metadata": {
      "needs_background": "light"
     },
     "output_type": "display_data"
    }
   ],
   "source": [
    "education_groups = df_train.groupby(['education'], as_index=False)['balance'].median()\n",
    "\n",
    "sns.barplot(x=\"education\", y=\"balance\", data=education_groups,\n",
    "            label=\"Total\", palette=\"RdBu\")"
   ]
  },
  {
   "cell_type": "markdown",
   "metadata": {},
   "source": [
    "# Data Cleaning\n"
   ]
  },
  {
   "cell_type": "code",
   "execution_count": 46,
   "metadata": {},
   "outputs": [],
   "source": [
    "# Let's split the columns up into numeric and categorical data\n",
    "train_num = df_train[['age', 'balance', 'day', 'duration', 'campaign', 'pdays', 'previous']]\n",
    "test_num = df_test[['age', 'balance', 'day', 'duration', 'campaign', 'pdays', 'previous']]\n",
    "\n",
    "train_cat = df_train[['job', 'marital', 'education', 'default', 'housing', 'loan', 'contact', 'month', 'poutcome', 'y']]\n",
    "test_cat = df_test[['job', 'marital', 'education', 'default', 'housing', 'loan', 'contact', 'month', 'poutcome', 'y']]"
   ]
  },
  {
   "cell_type": "code",
   "execution_count": 47,
   "metadata": {},
   "outputs": [
    {
     "data": {
      "text/plain": [
       "Index(['age', 'job', 'marital', 'education', 'default', 'balance', 'housing',\n",
       "       'loan', 'contact', 'day', 'month', 'duration', 'campaign', 'pdays',\n",
       "       'previous', 'poutcome', 'y'],\n",
       "      dtype='object')"
      ]
     },
     "execution_count": 47,
     "metadata": {},
     "output_type": "execute_result"
    }
   ],
   "source": [
    "df_train.columns"
   ]
  },
  {
   "cell_type": "code",
   "execution_count": 48,
   "metadata": {},
   "outputs": [],
   "source": [
    "num_features = ['age', 'balance', 'day', 'duration', 'campaign', 'pdays', 'previous']\n",
    "cat_features = ['job', 'marital', 'education', 'default', 'housing', 'loan', 'contact', 'month', 'poutcome']\n",
    "\n",
    "y_train = df_train['y']\n",
    "\n",
    "y_train = y_train.replace('TypeA', '0')\n",
    "y_train = y_train.replace('TypeB', '1')\n",
    "\n",
    "y_train = y_train.astype(float)"
   ]
  },
  {
   "cell_type": "markdown",
   "metadata": {},
   "source": [
    "# Pre-process Data"
   ]
  },
  {
   "cell_type": "code",
   "execution_count": 49,
   "metadata": {},
   "outputs": [],
   "source": [
    "num_features = ['age', 'balance', 'day', 'campaign', 'pdays', 'previous']\n",
    "cat_features = ['job', 'marital', 'education', 'default', 'housing', 'loan', 'contact', 'month', 'poutcome']\n",
    "\n",
    "y_train = df_train['y']\n",
    "\n",
    "y_train = y_train.replace('TypeA', '0')\n",
    "y_train = y_train.replace('TypeB', '1')\n",
    "\n",
    "y_train = y_train.astype(float)\n",
    "\n",
    "X_train_cat = pd.get_dummies(df_train[cat_features])\n",
    "X_test_cat = pd.get_dummies(df_test[cat_features])\n",
    "\n",
    "X_train_num = df_train[num_features]\n",
    "X_test_num = df_test[num_features]"
   ]
  },
  {
   "cell_type": "markdown",
   "metadata": {},
   "source": [
    "# Classification Models:\n",
    "\n",
    "- KNearestNeighbours\n",
    "- Decision Tree\n",
    "- Naives Bayes"
   ]
  },
  {
   "cell_type": "code",
   "execution_count": 50,
   "metadata": {},
   "outputs": [],
   "source": [
    "from sklearn.model_selection import cross_val_score\n",
    "from sklearn.neighbors import KNeighborsClassifier\n",
    "from sklearn import tree\n",
    "from sklearn.naive_bayes import GaussianNB\n",
    "\n",
    "# KNearestNeighbors\n",
    "knn_clf = KNeighborsClassifier()\n",
    "knn_scores = cross_val_score(knn_clf, X_train_cat, y_train, cv=3)\n",
    "knn_mean = knn_scores.mean()\n",
    "\n",
    "# Decision Tree\n",
    "tree_clf = tree.DecisionTreeClassifier()\n",
    "tree_scores = cross_val_score(tree_clf, X_train_cat, y_train, cv=3)\n",
    "tree_mean = tree_scores.mean()\n",
    "\n",
    "# Naives Bayes\n",
    "nav_clf = GaussianNB()\n",
    "nav_scores = cross_val_score(nav_clf, X_train_cat, y_train, cv=3)\n",
    "nav_mean = nav_scores.mean()\n",
    "\n",
    "# Create a Dataframe with the results.\n",
    "d = {'Classifiers': ['Categorical KNN', 'Categorical Dec Tree','Categorical Naives Bayes'], \n",
    "    'Crossval Mean Scores': [knn_mean, tree_mean, nav_mean]}\n",
    "\n",
    "result_df_cat = pd.DataFrame(data=d)"
   ]
  },
  {
   "cell_type": "code",
   "execution_count": 51,
   "metadata": {},
   "outputs": [],
   "source": [
    "# KNearestNeighbors\n",
    "knn_clf = KNeighborsClassifier()\n",
    "knn_scores = cross_val_score(knn_clf, X_train_num, y_train, cv=3)\n",
    "knn_mean = knn_scores.mean()\n",
    "\n",
    "# Decision Tree\n",
    "tree_clf = tree.DecisionTreeClassifier()\n",
    "tree_scores = cross_val_score(tree_clf, X_train_num, y_train, cv=3)\n",
    "tree_mean = tree_scores.mean()\n",
    "\n",
    "# Naives Bayes\n",
    "nav_clf = GaussianNB()\n",
    "nav_scores = cross_val_score(nav_clf, X_train_num, y_train, cv=3)\n",
    "nav_mean = nav_scores.mean()\n",
    "\n",
    "# Create a Dataframe with the results.\n",
    "d = {'Classifiers': ['Numerical KNN', 'Numerical Dec Tree','Numerical Naives Bayes'], \n",
    "    'Crossval Mean Scores': [knn_mean, tree_mean, nav_mean]}\n",
    "\n",
    "result_df_num = pd.DataFrame(data=d)"
   ]
  },
  {
   "cell_type": "code",
   "execution_count": 52,
   "metadata": {},
   "outputs": [],
   "source": [
    "df_results = result_df_num.append(result_df_cat)"
   ]
  },
  {
   "cell_type": "code",
   "execution_count": 53,
   "metadata": {},
   "outputs": [
    {
     "name": "stdout",
     "output_type": "stream",
     "text": [
      "                Classifiers  Crossval Mean Scores\n",
      "0             Numerical KNN              0.818201\n",
      "2    Numerical Naives Bayes              0.786701\n",
      "1        Numerical Dec Tree              0.676536\n",
      "0           Categorical KNN              0.547413\n",
      "2  Categorical Naives Bayes              0.497574\n",
      "1      Categorical Dec Tree              0.392795\n"
     ]
    }
   ],
   "source": [
    "print(df_results.sort_values(by='Crossval Mean Scores', ascending=False))"
   ]
  },
  {
   "cell_type": "code",
   "execution_count": 54,
   "metadata": {},
   "outputs": [],
   "source": [
    "# KNearestNeighbors\n",
    "knn_clf = KNeighborsClassifier()\n",
    "knn_scores = cross_val_score(knn_clf, X_train_num, y_train, cv=3)\n",
    "knn_mean = knn_scores.mean()\n",
    "\n",
    "knn_clf.fit(X_train_num, y_train)\n",
    "prediction = knn_clf.predict(X_test_num)"
   ]
  },
  {
   "cell_type": "markdown",
   "metadata": {},
   "source": [
    "# Confusion Matrix"
   ]
  },
  {
   "cell_type": "code",
   "execution_count": 55,
   "metadata": {},
   "outputs": [
    {
     "name": "stdout",
     "output_type": "stream",
     "text": [
      "Accuracy= 0.8743832236842105\n",
      "[[8410  193]\n",
      " [1029   96]]\n",
      "\n",
      "\n",
      "\n"
     ]
    },
    {
     "data": {
      "image/png": "[encoded data removed]",
      "text/plain": [
       "<Figure size 288x288 with 2 Axes>"
      ]
     },
     "metadata": {
      "needs_background": "light"
     },
     "output_type": "display_data"
    }
   ],
   "source": [
    "from sklearn.metrics import confusion_matrix\n",
    "from sklearn.metrics import accuracy_score\n",
    "\n",
    "knn_clf2 = KNeighborsClassifier()\n",
    "#Split the data: 60% training : 40% test set\n",
    "instances_train, instances_test, target_train, target_test = train_test_split(X_train_num, y_train, test_size=0.4, random_state=0)\n",
    "#fit the model using just the test set\n",
    "knn_clf2.fit(instances_train, target_train)\n",
    "#Use the model to make predictions for the test set queries\n",
    "predictions_2 = knn_clf2.predict(instances_test)\n",
    "#Output the accuracy score of the model on the test set\n",
    "print(\"Accuracy= \" + str(accuracy_score(target_test, predictions_2, normalize=True)))\n",
    "#Output the confusion matrix on the test set\n",
    "confusionMatrix = confusion_matrix(target_test, predictions_2)\n",
    "print(confusionMatrix)\n",
    "print(\"\\n\\n\")\n",
    "\n",
    "#Draw the confusion matrix\n",
    "import matplotlib.pyplot as plt\n",
    "# Show confusion matrix in a separate window\n",
    "plt.matshow(confusionMatrix)\n",
    "#plt.plot(confusionMatrix)\n",
    "plt.title('Confusion matrix')\n",
    "plt.colorbar()\n",
    "plt.ylabel('True label')\n",
    "plt.xlabel('Predicted label')\n",
    "plt.show()"
   ]
  },
  {
   "cell_type": "markdown",
   "metadata": {},
   "source": [
    "# ROC Curve\n",
    "The ROC curve tells us how well our classifier is classifying between term deposit suscriptions (True Positives) and non-term deposit suscriptions. The X-axis is represented by False positive rates (Specificity) and the Y-axis is represented by the True Positive Rate (Sensitivity.) As the line moves the threshold of the classification changes giving us different values. The closer is the line to our top left corner the better is our model separating both classes."
   ]
  },
  {
   "cell_type": "code",
   "execution_count": 56,
   "metadata": {},
   "outputs": [],
   "source": [
    "# Hold the False Positve Rates\n",
    "fpr = {}\n",
    "\n",
    "# Hold the True Postive Rates\n",
    "tpr = {}\n",
    "\n",
    "# Hold the Thresholds\n",
    "thresholds = {}\n",
    "\n",
    "# Hold the ROC data\n",
    "roc_auc = {}\n",
    "\n",
    "# Variables to hold TPR, FPR, Thresholds\n",
    "model_types = {\n",
    "    'knn': 'K Nearest Neighbours'\n",
    "}"
   ]
  },
  {
   "cell_type": "code",
   "execution_count": 25,
   "metadata": {},
   "outputs": [
    {
     "data": {
      "image/png": "[encoded data removed]",
      "text/plain": [
       "<Figure size 432x288 with 1 Axes>"
      ]
     },
     "metadata": {
      "needs_background": "light"
     },
     "output_type": "display_data"
    }
   ],
   "source": [
    "import matplotlib.pyplot as plt\n",
    "from sklearn.metrics import roc_curve, auc\n",
    "\n",
    "\n",
    "# ROC curve data\n",
    "probs_knn = knn_clf.predict_proba(X_train_num)\n",
    "fpr['knn'], tpr['knn'], thresholds['knn'] = roc_curve(y_train, probs_knn[:, 1])\n",
    "roc_auc['knn'] = auc(fpr['knn'], tpr['knn'])\n",
    "\n",
    "# Plotting all ROC curves together\n",
    "fig, ax = plt.subplots()\n",
    "for classification in ['knn']:    \n",
    "    ax.plot(fpr[classification], tpr[classification], \n",
    "             label='{0:s} (AUC = {1:0.2f})'''.format(model_types[classification], \n",
    "                                                     roc_auc[classification]))\n",
    "legend = ax.legend(loc='lower right', shadow=True)"
   ]
  },
  {
   "cell_type": "markdown",
   "metadata": {},
   "source": [
    "# Export Data"
   ]
  },
  {
   "cell_type": "code",
   "execution_count": 68,
   "metadata": {},
   "outputs": [],
   "source": [
    "predictions = pd.DataFrame(data= prediction)\n",
    "\n",
    "predictions = predictions.replace(0, 'TypeA')\n",
    "predictions = predictions.replace(1, 'TypeB')\n",
    "\n",
    "predict_id = pd.DataFrame(data=df_test.index)\n",
    "predictions = predict_id.merge(predictions, left_index=True, right_index=True)\n",
    "predictions.columns = ['Id', 'Type']\n",
    "\n",
    "predictions.to_csv('./prediction.csv', index=False)"
   ]
  },
  {
   "cell_type": "code",
   "execution_count": null,
   "metadata": {},
   "outputs": [],
   "source": []
  }
 ],
 "metadata": {
  "kernelspec": {
   "display_name": "Python 3",
   "language": "python",
   "name": "python3"
  },
  "language_info": {
   "codemirror_mode": {
    "name": "ipython",
    "version": 3
   },
   "file_extension": ".py",
   "mimetype": "text/x-python",
   "name": "python",
   "nbconvert_exporter": "python",
   "pygments_lexer": "ipython3",
   "version": "3.7.9"
  }
 },
 "nbformat": 4,
 "nbformat_minor": 4
}
